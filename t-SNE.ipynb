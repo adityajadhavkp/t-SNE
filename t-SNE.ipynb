{
 "cells": [
  {
   "cell_type": "markdown",
   "metadata": {},
   "source": [
    "**t-distributed stochastic neighbor embedding or t-SNE**  uses a high-dimensional data set and reduces it to a low-dimensional graph containing a large amount of original information. It does this by giving each data point a two-or three-dimensional map location. This technique finds clusters in the data to ensure that the embedding preserves the meaning of the data. t-SNE reduces dimensionality while trying to keep similar instances close and unique from one another."
   ]
  },
  {
   "cell_type": "code",
   "execution_count": null,
   "metadata": {},
   "outputs": [],
   "source": []
  }
 ],
 "metadata": {
  "kernelspec": {
   "display_name": "Python 3",
   "language": "python",
   "name": "python3"
  },
  "language_info": {
   "codemirror_mode": {
    "name": "ipython",
    "version": 3
   },
   "file_extension": ".py",
   "mimetype": "text/x-python",
   "name": "python",
   "nbconvert_exporter": "python",
   "pygments_lexer": "ipython3",
   "version": "3.7.6"
  }
 },
 "nbformat": 4,
 "nbformat_minor": 4
}
